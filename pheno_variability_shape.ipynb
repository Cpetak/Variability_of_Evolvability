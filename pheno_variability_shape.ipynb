{
 "cells": [
  {
   "cell_type": "code",
   "execution_count": null,
   "metadata": {},
   "outputs": [
    {
     "name": "stderr",
     "output_type": "stream",
     "text": [
      "/gpfs1/home/c/p/cpetak/Variability_of_Evolvability/helper.py:165: NumbaPerformanceWarning: \u001b[1m\u001b[1m\u001b[1mnp.dot() is faster on contiguous arrays, called on (Array(float64, 2, 'A', False, aligned=True), Array(float64, 2, 'A', False, aligned=True))\u001b[0m\u001b[0m\u001b[0m\n",
      "  next_step = windows.dot(grn)\n",
      "/gpfs1/home/c/p/cpetak/Variability_of_Evolvability/helper.py:186: NumbaPerformanceWarning: \u001b[1m\u001b[1m\u001b[1mnp.dot() is faster on contiguous arrays, called on (Array(float64, 2, 'C', False, aligned=True), Array(float64, 2, 'A', False, aligned=True))\u001b[0m\u001b[0m\u001b[0m\n",
      "  next_step = gene_vals.dot(internal_grn)\n"
     ]
    }
   ],
   "source": [
    "#CLEANED\n",
    "\n",
    "import numpy as np\n",
    "import os\n",
    "import matplotlib.pyplot as plt\n",
    "\n",
    "import helper"
   ]
  },
  {
   "cell_type": "code",
   "execution_count": 2,
   "metadata": {},
   "outputs": [
    {
     "name": "stdout",
     "output_type": "stream",
     "text": [
      "54\n",
      "(15, 9898)\n",
      "54\n",
      "(15, 9898, 24, 22)\n"
     ]
    }
   ],
   "source": [
    "root=\"~/CA_GRN_results/detailed_save/\"\n",
    "metric1 = \"beststd\"\n",
    "metric2 = \"best_grn_std\"\n",
    "num_reps = 15\n",
    "season_len=300\n",
    "id_start = 0\n",
    "seed_ints = [69904,149796]\n",
    "grn_size = 22\n",
    "\n",
    "rules = [22, 126, 154, 18, 122, 70,54,94,30,50,62,110,90,150,102]\n",
    "rules = [54] #22,54,102 pretty high, 126,122,70,150 low, 154,18,94,30,62,110,90 medium\n",
    "\n",
    "for rule in rules:\n",
    "    print(rule)\n",
    "    std_vals=[np.loadtxt(os.path.expanduser(root+f\"variable/stats_{season_len}_{rule}-{rule}_69904-149796_{i+1+id_start}_{metric1}.txt\")) for i in range(num_reps)]\n",
    "    std_vals = np.array(std_vals)\n",
    "    print(std_vals.shape)\n",
    "\n",
    "for rule in rules:\n",
    "    print(rule)\n",
    "    std_grns=[np.loadtxt(os.path.expanduser(root+f\"variable/stats_{season_len}_{rule}-{rule}_69904-149796_{i+1+id_start}_{metric2}.txt\")) for i in range(num_reps)]\n",
    "    std_grns = np.array(std_grns)\n",
    "    std_grns = np.reshape(std_grns, (num_reps, 9898,grn_size+2,grn_size))\n",
    "    print(std_grns.shape)"
   ]
  },
  {
   "cell_type": "code",
   "execution_count": 3,
   "metadata": {},
   "outputs": [],
   "source": [
    "def make_heatmap(rep, gen):\n",
    "    grn_to_test = std_grns[rep, gen, :, :]\n",
    "\n",
    "    #create pop of kids\n",
    "    num_clones = 10_000\n",
    "    seasons = np.tile(np.repeat([0, 1], 300), 100)\n",
    "    kids = np.repeat(grn_to_test[np.newaxis, :, :], num_clones, axis=0)\n",
    "\n",
    "    #mutate all\n",
    "    mut_rate = 0.1\n",
    "    mut_size = 0.5\n",
    "    num_genes_mutate = int((grn_size + 2) * grn_size * num_clones * mut_rate)\n",
    "    np.random.seed(44)\n",
    "    mutations = np.random.randn(num_genes_mutate) * mut_size\n",
    "    x, y, z = kids.shape\n",
    "    xs = np.random.choice(x, size=num_genes_mutate)\n",
    "    ys = np.random.choice(y, size=num_genes_mutate)\n",
    "    zs = np.random.choice(z, size=num_genes_mutate)\n",
    "    kids[xs, ys, zs] = kids[xs, ys, zs] + mutations\n",
    "\n",
    "    #calc phenos\n",
    "    num_cells = 22\n",
    "    dev_steps = 22\n",
    "    inputs = []\n",
    "    seeds = []\n",
    "    for seed_int in seed_ints:\n",
    "        #Make seeds, 1024 is one-hot\n",
    "        start_pattern = helper.seedID2string(seed_int, num_cells)\n",
    "        seeds.append(start_pattern)\n",
    "        start_expression = helper.seed2expression(start_pattern, num_clones, num_cells, grn_size, geneid=1)\n",
    "        inputs.append(start_expression)\n",
    "\n",
    "    targets = []\n",
    "    for idx, seed in enumerate(seeds):\n",
    "        targets.append(helper.rule2targets_wrapped_wstart(int(rule), L=dev_steps+1, N=num_cells, start_pattern=seed))\n",
    "\n",
    "    #parent pheno\n",
    "    curr = seasons[gen]\n",
    "    print(curr)\n",
    "    parent_pheno = helper.develop(inputs[curr], np.expand_dims(grn_to_test, axis=0), dev_steps, 1, grn_size, num_cells)\n",
    "\n",
    "    #kids pheno\n",
    "    phenos = helper.develop(inputs[curr], kids, dev_steps, num_clones, grn_size, num_cells)\n",
    "    #print(kids.shape, phenos.shape)\n",
    "    p=phenos[:,:,1::grn_size]\n",
    "    #print(p.shape)\n",
    "    per_cell_std = np.std(p, axis = 0)\n",
    "    fitnesses1 = helper.fitness_function_ca(p, targets[0])\n",
    "    fitnesses2 = helper.fitness_function_ca(p, targets[1])\n",
    "    worst= -num_cells*dev_steps\n",
    "    fitnesses1=1-(fitnesses1/worst)\n",
    "    fitnesses2=1-(fitnesses2/worst)\n",
    "\n",
    "    parent_fit1 = helper.fitness_function_ca(parent_pheno[:,:,1::grn_size], targets[0])\n",
    "    parent_fit2 = helper.fitness_function_ca(parent_pheno[:,:,1::grn_size], targets[1])\n",
    "    parent_fit1=1-(parent_fit1/worst)\n",
    "    parent_fit2=1-(parent_fit2/worst)\n",
    "\n",
    "    #get pheno variation\n",
    "    where_overlap = np.where(targets[0]==targets[1])\n",
    "    where_no_overlap = np.where(targets[0]!=targets[1])\n",
    "\n",
    "    values_they_should_match = p[:,where_overlap[0],where_overlap[1]]\n",
    "    matching_std = np.std(values_they_should_match, axis=0)\n",
    "    matching_std = matching_std.mean(axis=0) #average across the N overlaps, to get 1 value for each parent\n",
    "    #print(matching_std)\n",
    "\n",
    "    #repeat for non-overlap\n",
    "    values_they_shouldnt_match = p[:,where_no_overlap[0],where_no_overlap[1]]\n",
    "    nonmatching_std = np.std(values_they_shouldnt_match, axis=0)\n",
    "    nonmatching_std = nonmatching_std.mean(axis=0)\n",
    "    #print(nonmatching_std)\n",
    "\n",
    "    #minimum std is 0, max is 0.5 in the case of values that range between 0 and 1\n",
    "    combined_std = nonmatching_std - matching_std\n",
    "    \n",
    "    return parent_pheno, per_cell_std, combined_std, targets, fitnesses1, fitnesses2, parent_fit1, parent_fit2\n"
   ]
  },
  {
   "cell_type": "code",
   "execution_count": 4,
   "metadata": {},
   "outputs": [],
   "source": [
    "rep, gen = np.unravel_index(np.argmax(std_vals), std_vals.shape)"
   ]
  },
  {
   "cell_type": "code",
   "execution_count": 5,
   "metadata": {},
   "outputs": [
    {
     "data": {
      "text/plain": [
       "(10, 8702)"
      ]
     },
     "execution_count": 5,
     "metadata": {},
     "output_type": "execute_result"
    }
   ],
   "source": [
    "flat_indices = np.argsort(std_vals, axis=None)  # Get the indices of the top 10 values\n",
    "\n",
    "# Convert the flat indices to 2D coordinates (row, column)\n",
    "top_coords = np.unravel_index(flat_indices, std_vals.shape)\n",
    "\n",
    "rep = top_coords[0][-1]\n",
    "gen = top_coords[1][-1]\n",
    "\n",
    "rep, gen"
   ]
  },
  {
   "cell_type": "code",
   "execution_count": 6,
   "metadata": {},
   "outputs": [
    {
     "name": "stdout",
     "output_type": "stream",
     "text": [
      "1\n"
     ]
    }
   ],
   "source": [
    "cstds=[]\n",
    "for g in [gen]:\n",
    "    parent_pheno, per_cell_std, combined_std, targets,f1,f2,pf1,pf2 = make_heatmap(rep, g)\n",
    "    cstds.append(combined_std)\n"
   ]
  },
  {
   "cell_type": "code",
   "execution_count": 7,
   "metadata": {},
   "outputs": [
    {
     "name": "stderr",
     "output_type": "stream",
     "text": [
      "Clipping input data to the valid range for imshow with RGB data ([0..1] for floats or [0..255] for integers).\n"
     ]
    },
    {
     "data": {
      "text/plain": [
       "<matplotlib.image.AxesImage at 0x7fd40c6b19d0>"
      ]
     },
     "execution_count": 7,
     "metadata": {},
     "output_type": "execute_result"
    },
    {
     "data": {
      "image/png": "[encoded data removed]",
      "text/plain": [
       "<Figure size 600x400 with 3 Axes>"
      ]
     },
     "metadata": {},
     "output_type": "display_data"
    }
   ],
   "source": [
    "import seaborn as sns\n",
    "from matplotlib.lines import Line2D\n",
    "\n",
    "fig, axs = plt.subplots(ncols=3, figsize=(6, 4))\n",
    "\n",
    "preds = np.where(targets[0] > 0.5, 1, 0)\n",
    "correct = np.where(np.abs(targets[1] - preds) > 0, 1, 0)\n",
    "correct_mask = np.ma.array(targets[1], mask=correct)\n",
    "reds = np.dstack(\n",
    "    [np.ones_like(targets[1]) * 255, np.zeros_like(targets[1]), np.zeros_like(targets[1])]\n",
    ")\n",
    "\n",
    "# Create the figure\n",
    "axs[2].imshow(reds, label=\"errors\")  # red background\n",
    "#plt.imshow(correct_mask)\n",
    "\n",
    "# a bit of a mindfuck, correct is used as a mask so it's like the inverse... xD\n",
    "error_perc = correct.sum() / targets[1].size * 100\n",
    "\n",
    "helper.imshow_ca(targets[0], ax=axs[0])\n",
    "helper.imshow_ca(targets[1], ax=axs[1])\n",
    "helper.imshow_ca(correct_mask, ax=axs[2])\n"
   ]
  },
  {
   "cell_type": "code",
   "execution_count": 8,
   "metadata": {},
   "outputs": [
    {
     "data": {
      "image/png": "[encoded data removed]",
      "text/plain": [
       "<Figure size 640x480 with 2 Axes>"
      ]
     },
     "metadata": {},
     "output_type": "display_data"
    }
   ],
   "source": [
    "plt.imshow(per_cell_std)\n",
    "cbar=plt.colorbar()\n",
    "plt.xlabel(\"Cells\", fontsize=18)\n",
    "plt.ylabel(\"Dev. steps\", fontsize=18)\n",
    "#plt.legend(loc=\"upper right\", prop={'size': 18})\n",
    "plt.tick_params(axis='both', which='major', labelsize=12)\n",
    "cbar.set_label('Standard deviation among offspring', fontsize=12)\n",
    "cbar.ax.yaxis.label.set_rotation(270)  # Rotate label to the left\n",
    "cbar.ax.yaxis.label.set_horizontalalignment('center')  # Align horizontally\n",
    "cbar.ax.yaxis.label.set_verticalalignment('bottom')  # Align vertically\n",
    "cbar.ax.tick_params(labelsize=12)\n",
    "plt.show()"
   ]
  },
  {
   "cell_type": "code",
   "execution_count": null,
   "metadata": {},
   "outputs": [],
   "source": []
  }
 ],
 "metadata": {
  "kernelspec": {
   "display_name": "ca_grn",
   "language": "python",
   "name": "python3"
  },
  "language_info": {
   "codemirror_mode": {
    "name": "ipython",
    "version": 3
   },
   "file_extension": ".py",
   "mimetype": "text/x-python",
   "name": "python",
   "nbconvert_exporter": "python",
   "pygments_lexer": "ipython3",
   "version": "3.11.7"
  }
 },
 "nbformat": 4,
 "nbformat_minor": 2
}
